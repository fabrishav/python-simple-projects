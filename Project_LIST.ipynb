{
 "cells": [
  {
   "cell_type": "markdown",
   "metadata": {},
   "source": [
    "# Get Any Country Current Covid Cases"
   ]
  },
  {
   "cell_type": "code",
   "execution_count": 1,
   "metadata": {},
   "outputs": [
    {
     "name": "stdout",
     "output_type": "stream",
     "text": [
      "Requirement already satisfied: covid in c:\\users\\rishita singh\\anaconda3\\lib\\site-packages (2.4.0)\n",
      "Requirement already satisfied: typer in c:\\users\\rishita singh\\anaconda3\\lib\\site-packages (from covid) (0.3.2)\n",
      "Requirement already satisfied: requests in c:\\users\\rishita singh\\anaconda3\\lib\\site-packages (from covid) (2.22.0)\n",
      "Requirement already satisfied: beautifulsoup4 in c:\\users\\rishita singh\\anaconda3\\lib\\site-packages (from covid) (4.8.2)\n",
      "Requirement already satisfied: pydantic in c:\\users\\rishita singh\\anaconda3\\lib\\site-packages (from covid) (1.6.1)\n",
      "Requirement already satisfied: click<7.2.0,>=7.1.1 in c:\\users\\rishita singh\\anaconda3\\lib\\site-packages (from typer->covid) (7.1.2)\n",
      "Requirement already satisfied: idna<2.9,>=2.5 in c:\\users\\rishita singh\\anaconda3\\lib\\site-packages (from requests->covid) (2.8)\n",
      "Requirement already satisfied: certifi>=2017.4.17 in c:\\users\\rishita singh\\anaconda3\\lib\\site-packages (from requests->covid) (2019.11.28)\n",
      "Requirement already satisfied: chardet<3.1.0,>=3.0.2 in c:\\users\\rishita singh\\anaconda3\\lib\\site-packages (from requests->covid) (3.0.4)\n",
      "Requirement already satisfied: urllib3!=1.25.0,!=1.25.1,<1.26,>=1.21.1 in c:\\users\\rishita singh\\anaconda3\\lib\\site-packages (from requests->covid) (1.25.8)\n",
      "Requirement already satisfied: soupsieve>=1.2 in c:\\users\\rishita singh\\anaconda3\\lib\\site-packages (from beautifulsoup4->covid) (1.9.5)\n"
     ]
    }
   ],
   "source": [
    "! pip install covid"
   ]
  },
  {
   "cell_type": "code",
   "execution_count": 21,
   "metadata": {},
   "outputs": [
    {
     "name": "stdout",
     "output_type": "stream",
     "text": [
      "id : 37\n",
      "country : China\n",
      "confirmed : 90584\n",
      "active : 351\n",
      "deaths : 4739\n",
      "recovered : 85494\n",
      "latitude : 30.5928\n",
      "longitude : 114.3055\n",
      "last_update : 1601713418000\n"
     ]
    }
   ],
   "source": [
    "from covid import Covid\n",
    "covid = Covid()\n",
    "cases = covid.get_status_by_country_name(\"china\")\n",
    "for x in cases:\n",
    "    print(x,\":\",cases[x])"
   ]
  },
  {
   "cell_type": "markdown",
   "metadata": {},
   "source": [
    "# Program to display Calendar"
   ]
  },
  {
   "cell_type": "code",
   "execution_count": 3,
   "metadata": {},
   "outputs": [
    {
     "name": "stdout",
     "output_type": "stream",
     "text": [
      "   September 2020\n",
      "Mo Tu We Th Fr Sa Su\n",
      "    1  2  3  4  5  6\n",
      " 7  8  9 10 11 12 13\n",
      "14 15 16 17 18 19 20\n",
      "21 22 23 24 25 26 27\n",
      "28 29 30\n",
      "\n"
     ]
    }
   ],
   "source": [
    "import calendar\n",
    "yy = 2020\n",
    "mm = 9\n",
    "print(calendar.month(yy,mm))"
   ]
  },
  {
   "cell_type": "code",
   "execution_count": 4,
   "metadata": {},
   "outputs": [
    {
     "name": "stdout",
     "output_type": "stream",
     "text": [
      "Enter the year:2020\n",
      "Enter the month:10\n",
      "    October 2020\n",
      "Mo Tu We Th Fr Sa Su\n",
      "          1  2  3  4\n",
      " 5  6  7  8  9 10 11\n",
      "12 13 14 15 16 17 18\n",
      "19 20 21 22 23 24 25\n",
      "26 27 28 29 30 31\n",
      "\n"
     ]
    }
   ],
   "source": [
    "import calendar\n",
    "year = int(input(\"Enter the year:\"))\n",
    "month = int(input(\"Enter the month:\"))\n",
    "print(calendar.month(year,month))"
   ]
  },
  {
   "cell_type": "markdown",
   "metadata": {},
   "source": [
    "# Play Youtube Videos"
   ]
  },
  {
   "cell_type": "code",
   "execution_count": 5,
   "metadata": {},
   "outputs": [
    {
     "name": "stdout",
     "output_type": "stream",
     "text": [
      "Requirement already satisfied: pywhatkit in c:\\users\\rishita singh\\anaconda3\\lib\\site-packages (3.0)\n",
      "Requirement already satisfied: wikipedia in c:\\users\\rishita singh\\anaconda3\\lib\\site-packages (from pywhatkit) (1.4.0)\n",
      "Requirement already satisfied: numpy in c:\\users\\rishita singh\\anaconda3\\lib\\site-packages (from pywhatkit) (1.18.1)\n",
      "Requirement already satisfied: requests in c:\\users\\rishita singh\\anaconda3\\lib\\site-packages (from pywhatkit) (2.22.0)\n",
      "Requirement already satisfied: Pillow in c:\\users\\rishita singh\\anaconda3\\lib\\site-packages (from pywhatkit) (7.0.0)\n",
      "Requirement already satisfied: beautifulsoup4 in c:\\users\\rishita singh\\anaconda3\\lib\\site-packages (from pywhatkit) (4.8.2)\n",
      "Requirement already satisfied: pyautogui in c:\\users\\rishita singh\\anaconda3\\lib\\site-packages (from pywhatkit) (0.9.50)\n",
      "Requirement already satisfied: certifi>=2017.4.17 in c:\\users\\rishita singh\\anaconda3\\lib\\site-packages (from requests->pywhatkit) (2019.11.28)\n",
      "Requirement already satisfied: urllib3!=1.25.0,!=1.25.1,<1.26,>=1.21.1 in c:\\users\\rishita singh\\anaconda3\\lib\\site-packages (from requests->pywhatkit) (1.25.8)\n",
      "Requirement already satisfied: chardet<3.1.0,>=3.0.2 in c:\\users\\rishita singh\\anaconda3\\lib\\site-packages (from requests->pywhatkit) (3.0.4)\n",
      "Requirement already satisfied: idna<2.9,>=2.5 in c:\\users\\rishita singh\\anaconda3\\lib\\site-packages (from requests->pywhatkit) (2.8)\n",
      "Requirement already satisfied: soupsieve>=1.2 in c:\\users\\rishita singh\\anaconda3\\lib\\site-packages (from beautifulsoup4->pywhatkit) (1.9.5)\n",
      "Requirement already satisfied: mouseinfo in c:\\users\\rishita singh\\anaconda3\\lib\\site-packages (from pyautogui->pywhatkit) (0.1.3)\n",
      "Requirement already satisfied: pyscreeze>=0.1.21 in c:\\users\\rishita singh\\anaconda3\\lib\\site-packages (from pyautogui->pywhatkit) (0.1.26)\n",
      "Requirement already satisfied: pygetwindow>=0.0.5 in c:\\users\\rishita singh\\anaconda3\\lib\\site-packages (from pyautogui->pywhatkit) (0.0.8)\n",
      "Requirement already satisfied: pymsgbox in c:\\users\\rishita singh\\anaconda3\\lib\\site-packages (from pyautogui->pywhatkit) (1.0.8)\n",
      "Requirement already satisfied: PyTweening>=1.0.1 in c:\\users\\rishita singh\\anaconda3\\lib\\site-packages (from pyautogui->pywhatkit) (1.0.3)\n",
      "Requirement already satisfied: pyperclip in c:\\users\\rishita singh\\anaconda3\\lib\\site-packages (from mouseinfo->pyautogui->pywhatkit) (1.8.0)\n",
      "Requirement already satisfied: pyrect in c:\\users\\rishita singh\\anaconda3\\lib\\site-packages (from pygetwindow>=0.0.5->pyautogui->pywhatkit) (0.1.4)\n"
     ]
    }
   ],
   "source": [
    "! pip install pywhatkit"
   ]
  },
  {
   "cell_type": "code",
   "execution_count": 11,
   "metadata": {},
   "outputs": [
    {
     "data": {
      "text/plain": [
       "'https://www.youtube.com/watch?v=sWqjZpBtcxc'"
      ]
     },
     "execution_count": 11,
     "metadata": {},
     "output_type": "execute_result"
    }
   ],
   "source": [
    "import pywhatkit as kit\n",
    "kit.playonyt('ae mere hamsafar')"
   ]
  },
  {
   "cell_type": "markdown",
   "metadata": {},
   "source": [
    "# Creating Emojis"
   ]
  },
  {
   "cell_type": "code",
   "execution_count": null,
   "metadata": {},
   "outputs": [],
   "source": [
    "! pip install emoji"
   ]
  },
  {
   "cell_type": "code",
   "execution_count": 13,
   "metadata": {},
   "outputs": [
    {
     "name": "stdout",
     "output_type": "stream",
     "text": [
      "😂️\n"
     ]
    }
   ],
   "source": [
    "import emoji\n",
    "print(emoji.emojize(\":face_with_tears_of_joy:\",variant=\"emoji_type\"))"
   ]
  },
  {
   "cell_type": "markdown",
   "metadata": {},
   "source": [
    "# Get your pc IP address using Python"
   ]
  },
  {
   "cell_type": "code",
   "execution_count": 15,
   "metadata": {},
   "outputs": [
    {
     "name": "stdout",
     "output_type": "stream",
     "text": [
      "My IP Address is : 192.168.43.131\n"
     ]
    }
   ],
   "source": [
    "import socket\n",
    "hostname = socket.gethostname()\n",
    "IPAddr = socket.gethostbyname(hostname)\n",
    "print(\"My IP Address is : \" + IPAddr)"
   ]
  }
 ],
 "metadata": {
  "kernelspec": {
   "display_name": "Python 3",
   "language": "python",
   "name": "python3"
  },
  "language_info": {
   "codemirror_mode": {
    "name": "ipython",
    "version": 3
   },
   "file_extension": ".py",
   "mimetype": "text/x-python",
   "name": "python",
   "nbconvert_exporter": "python",
   "pygments_lexer": "ipython3",
   "version": "3.7.6"
  }
 },
 "nbformat": 4,
 "nbformat_minor": 4
}
